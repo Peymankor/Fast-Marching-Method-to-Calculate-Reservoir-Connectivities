{
 "cells": [
  {
   "cell_type": "code",
   "execution_count": null,
   "metadata": {},
   "outputs": [],
   "source": [
    "#Programmer: Peyman Kor, University of Stavanger- April, 2019\n",
    "#email:p.kor@stud.uis.no\n",
    "#This code has been written to find the connectivities amoung the 5 wells, in 5-spot pattern using Fast Marching Method."
   ]
  },
  {
   "cell_type": "code",
   "execution_count": 3,
   "metadata": {},
   "outputs": [
    {
     "name": "stdout",
     "output_type": "stream",
     "text": [
      "Requirement already satisfied: pandas in c:\\users\\243886\\appdata\\local\\continuum\\anaconda3\\lib\\site-packages (0.24.2)\n",
      "Requirement already satisfied: pytz>=2011k in c:\\users\\243886\\appdata\\local\\continuum\\anaconda3\\lib\\site-packages (from pandas) (2018.9)\n",
      "Requirement already satisfied: numpy>=1.12.0 in c:\\users\\243886\\appdata\\local\\continuum\\anaconda3\\lib\\site-packages (from pandas) (1.16.2)\n",
      "Requirement already satisfied: python-dateutil>=2.5.0 in c:\\users\\243886\\appdata\\local\\continuum\\anaconda3\\lib\\site-packages (from pandas) (2.8.0)\n",
      "Requirement already satisfied: six>=1.5 in c:\\users\\243886\\appdata\\local\\continuum\\anaconda3\\lib\\site-packages (from python-dateutil>=2.5.0->pandas) (1.12.0)\n",
      "Requirement already satisfied: numpy in c:\\users\\243886\\appdata\\local\\continuum\\anaconda3\\lib\\site-packages (1.16.2)\n",
      "Requirement already satisfied: pandas in c:\\users\\243886\\appdata\\local\\continuum\\anaconda3\\lib\\site-packages (0.24.2)\n",
      "Requirement already satisfied: python-dateutil>=2.5.0 in c:\\users\\243886\\appdata\\local\\continuum\\anaconda3\\lib\\site-packages (from pandas) (2.8.0)\n",
      "Requirement already satisfied: pytz>=2011k in c:\\users\\243886\\appdata\\local\\continuum\\anaconda3\\lib\\site-packages (from pandas) (2018.9)\n",
      "Requirement already satisfied: numpy>=1.12.0 in c:\\users\\243886\\appdata\\local\\continuum\\anaconda3\\lib\\site-packages (from pandas) (1.16.2)\n",
      "Requirement already satisfied: six>=1.5 in c:\\users\\243886\\appdata\\local\\continuum\\anaconda3\\lib\\site-packages (from python-dateutil>=2.5.0->pandas) (1.12.0)\n",
      "Requirement already satisfied: seaborn in c:\\users\\243886\\appdata\\local\\continuum\\anaconda3\\lib\\site-packages (0.9.0)\n",
      "Requirement already satisfied: pandas>=0.15.2 in c:\\users\\243886\\appdata\\local\\continuum\\anaconda3\\lib\\site-packages (from seaborn) (0.24.2)\n",
      "Requirement already satisfied: matplotlib>=1.4.3 in c:\\users\\243886\\appdata\\local\\continuum\\anaconda3\\lib\\site-packages (from seaborn) (3.0.3)\n",
      "Requirement already satisfied: numpy>=1.9.3 in c:\\users\\243886\\appdata\\local\\continuum\\anaconda3\\lib\\site-packages (from seaborn) (1.16.2)\n",
      "Requirement already satisfied: scipy>=0.14.0 in c:\\users\\243886\\appdata\\local\\continuum\\anaconda3\\lib\\site-packages (from seaborn) (1.2.1)\n",
      "Requirement already satisfied: pytz>=2011k in c:\\users\\243886\\appdata\\local\\continuum\\anaconda3\\lib\\site-packages (from pandas>=0.15.2->seaborn) (2018.9)\n",
      "Requirement already satisfied: python-dateutil>=2.5.0 in c:\\users\\243886\\appdata\\local\\continuum\\anaconda3\\lib\\site-packages (from pandas>=0.15.2->seaborn) (2.8.0)\n",
      "Requirement already satisfied: cycler>=0.10 in c:\\users\\243886\\appdata\\local\\continuum\\anaconda3\\lib\\site-packages (from matplotlib>=1.4.3->seaborn) (0.10.0)\n",
      "Requirement already satisfied: kiwisolver>=1.0.1 in c:\\users\\243886\\appdata\\local\\continuum\\anaconda3\\lib\\site-packages (from matplotlib>=1.4.3->seaborn) (1.0.1)\n",
      "Requirement already satisfied: pyparsing!=2.0.4,!=2.1.2,!=2.1.6,>=2.0.1 in c:\\users\\243886\\appdata\\local\\continuum\\anaconda3\\lib\\site-packages (from matplotlib>=1.4.3->seaborn) (2.3.1)\n",
      "Requirement already satisfied: six>=1.5 in c:\\users\\243886\\appdata\\local\\continuum\\anaconda3\\lib\\site-packages (from python-dateutil>=2.5.0->pandas>=0.15.2->seaborn) (1.12.0)\n",
      "Requirement already satisfied: setuptools in c:\\users\\243886\\appdata\\local\\continuum\\anaconda3\\lib\\site-packages (from kiwisolver>=1.0.1->matplotlib>=1.4.3->seaborn) (40.8.0)\n"
     ]
    }
   ],
   "source": [
    "# You need the following packages and it must be installed. \n",
    "!pip install pandas\n",
    "!pip install numpy\n",
    "!pip install pandas\n",
    "!pip install seaborn\n",
    "!pip install scikit-fmm"
   ]
  },
  {
   "cell_type": "code",
   "execution_count": 2,
   "metadata": {},
   "outputs": [],
   "source": [
    "import numpy as np\n",
    "import os\n",
    "import pandas as pd\n",
    "import seaborn as sns\n",
    "import skfmm"
   ]
  },
  {
   "cell_type": "code",
   "execution_count": 3,
   "metadata": {},
   "outputs": [
    {
     "data": {
      "text/plain": [
       "'C:\\\\Users\\\\Peyman\\\\OneDrive - Universitetet i Stavanger\\\\ML-5spot-INJ-SGS\\\\Rcode'"
      ]
     },
     "execution_count": 3,
     "metadata": {},
     "output_type": "execute_result"
    }
   ],
   "source": [
    "# Check your working directory!\n",
    "os.getcwd()"
   ]
  },
  {
   "cell_type": "code",
   "execution_count": 4,
   "metadata": {},
   "outputs": [
    {
     "data": {
      "text/plain": [
       "'C:\\\\Users\\\\Peyman\\\\OneDrive - Universitetet i Stavanger\\\\Github\\\\FMM'"
      ]
     },
     "execution_count": 4,
     "metadata": {},
     "output_type": "execute_result"
    }
   ],
   "source": [
    "# Change your working directory to the address you have the your PERMX.inc file, the eclipse file for permeability I am using\n",
    "# in the code. But, you could use any permeability data you have.\n",
    "newpath='C:\\\\Users\\\\Peyman\\\\OneDrive - Universitetet i Stavanger\\\\Github\\\\FMM'\n",
    "os.chdir(newpath)\n",
    "os.getcwd()"
   ]
  },
  {
   "cell_type": "code",
   "execution_count": 5,
   "metadata": {},
   "outputs": [
    {
     "data": {
      "text/html": [
       "<div>\n",
       "<style scoped>\n",
       "    .dataframe tbody tr th:only-of-type {\n",
       "        vertical-align: middle;\n",
       "    }\n",
       "\n",
       "    .dataframe tbody tr th {\n",
       "        vertical-align: top;\n",
       "    }\n",
       "\n",
       "    .dataframe thead th {\n",
       "        text-align: right;\n",
       "    }\n",
       "</style>\n",
       "<table border=\"1\" class=\"dataframe\">\n",
       "  <thead>\n",
       "    <tr style=\"text-align: right;\">\n",
       "      <th></th>\n",
       "      <th>PERMX</th>\n",
       "    </tr>\n",
       "  </thead>\n",
       "  <tbody>\n",
       "    <tr>\n",
       "      <th>9991</th>\n",
       "      <td>499.781366102794</td>\n",
       "    </tr>\n",
       "    <tr>\n",
       "      <th>9992</th>\n",
       "      <td>542.028224961591</td>\n",
       "    </tr>\n",
       "    <tr>\n",
       "      <th>9993</th>\n",
       "      <td>548.113352917543</td>\n",
       "    </tr>\n",
       "    <tr>\n",
       "      <th>9994</th>\n",
       "      <td>604.106992919776</td>\n",
       "    </tr>\n",
       "    <tr>\n",
       "      <th>9995</th>\n",
       "      <td>567.628979879705</td>\n",
       "    </tr>\n",
       "    <tr>\n",
       "      <th>9996</th>\n",
       "      <td>514.281842241502</td>\n",
       "    </tr>\n",
       "    <tr>\n",
       "      <th>9997</th>\n",
       "      <td>523.677599589808</td>\n",
       "    </tr>\n",
       "    <tr>\n",
       "      <th>9998</th>\n",
       "      <td>527.913816354599</td>\n",
       "    </tr>\n",
       "    <tr>\n",
       "      <th>9999</th>\n",
       "      <td>532.287443184933</td>\n",
       "    </tr>\n",
       "    <tr>\n",
       "      <th>10000</th>\n",
       "      <td>/</td>\n",
       "    </tr>\n",
       "  </tbody>\n",
       "</table>\n",
       "</div>"
      ],
      "text/plain": [
       "                  PERMX\n",
       "9991   499.781366102794\n",
       "9992   542.028224961591\n",
       "9993   548.113352917543\n",
       "9994   604.106992919776\n",
       "9995   567.628979879705\n",
       "9996   514.281842241502\n",
       "9997   523.677599589808\n",
       "9998   527.913816354599\n",
       "9999   532.287443184933\n",
       "10000                 /"
      ]
     },
     "execution_count": 5,
     "metadata": {},
     "output_type": "execute_result"
    }
   ],
   "source": [
    "# The permeability data in this case is the 100-100 grid wich is 10000 permeability data.\n",
    "data=pd.read_csv('PERMX.inc')\n",
    "data.tail(10)"
   ]
  },
  {
   "cell_type": "code",
   "execution_count": 6,
   "metadata": {},
   "outputs": [
    {
     "data": {
      "text/plain": [
       "array([[2.55300951, 2.53015089, 2.52734804, ..., 2.73926735, 2.72247458,\n",
       "        2.70523381],\n",
       "       [2.54823637, 2.54206419, 2.52234793, ..., 2.71114182, 2.7127564 ,\n",
       "        2.71895218],\n",
       "       [2.57236528, 2.55557775, 2.53474116, ..., 2.7286253 , 2.69862199,\n",
       "        2.68514228],\n",
       "       ...,\n",
       "       [2.65147281, 2.66511345, 2.69156742, ..., 2.75686622, 2.7327044 ,\n",
       "        2.67002821],\n",
       "       [2.66384649, 2.69479918, 2.68995976, ..., 2.70901895, 2.71902299,\n",
       "        2.69527149],\n",
       "       [2.64959836, 2.67512751, 2.68403292, ..., 2.719064  , 2.72256303,\n",
       "        2.72614622]])"
      ]
     },
     "execution_count": 6,
     "metadata": {},
     "output_type": "execute_result"
    }
   ],
   "source": [
    "# The following codes removes the last datapoint from the permeability data, (/) and as well reshape the permeability\n",
    "#100 X 100 grid structire.\n",
    "#Then, the np.log10 calculates the log 10 of the permeability data.\n",
    "Perm=data.values\n",
    "Perm=np.delete(Perm,10000)\n",
    "Perm=np.asarray(Perm, dtype=np.float)\n",
    "Perm=np.reshape(Perm,(100,100))\n",
    "Perm_log=np.log10(Perm)\n",
    "Perm_log"
   ]
  },
  {
   "cell_type": "code",
   "execution_count": 7,
   "metadata": {},
   "outputs": [
    {
     "data": {
      "image/png": "[encoded data removed]",
      "text/plain": [
       "<Figure size 640x480 with 2 Axes>"
      ]
     },
     "metadata": {},
     "output_type": "display_data"
    }
   ],
   "source": [
    "#We plot the permeability data to show the distribution of permeability data.\n",
    "from matplotlib.pyplot import figure\n",
    "figure(num=None, figsize=(8, 6), dpi=80, facecolor='w', edgecolor='k')\n",
    "a=np.amin(Perm_log)\n",
    "b=np.amax(Perm_log)\n",
    "ax = sns.heatmap(Perm_log,vmin=a,vmax=b,cbar_kws={'label': 'Log_10(K)'})"
   ]
  },
  {
   "cell_type": "code",
   "execution_count": 8,
   "metadata": {},
   "outputs": [],
   "source": [
    "#Now, in the fast marching method, you need the square root of the transmisibility. We use the same value for porosity, \n",
    "#viscosity and compressibility, but they could take any different value. The conversion, converts the permeability in md \n",
    "#square m to have consistent dimension.\n",
    "por=0.2\n",
    "miu=10**-3\n",
    "c_t= 3.48*10**(-10)\n",
    "conversion=9.87*10**-16\n",
    "speed=(Perm*conversion/por/miu/c_t)**0.5"
   ]
  },
  {
   "cell_type": "code",
   "execution_count": 10,
   "metadata": {},
   "outputs": [
    {
     "data": {
      "text/plain": [
       "array([[2.25091301, 2.19244851, 2.1853851 , ..., 2.78925122, 2.73584346,\n",
       "        2.68207466],\n",
       "       [2.23857754, 2.22272662, 2.17284086, ..., 2.70037991, 2.70540416,\n",
       "        2.72477124],\n",
       "       [2.30163577, 2.25757836, 2.20406571, ..., 2.75528549, 2.66173583,\n",
       "        2.62074699],\n",
       "       ...,\n",
       "       [2.52110167, 2.5610065 , 2.64020511, ..., 2.84634189, 2.76825541,\n",
       "        2.57553859],\n",
       "       [2.55727365, 2.65004683, 2.63532292, ..., 2.6937881 , 2.72499338,\n",
       "        2.65148822],\n",
       "       [2.51566691, 2.59070349, 2.61740191, ..., 2.72512203, 2.73612208,\n",
       "        2.74743273]])"
      ]
     },
     "execution_count": 10,
     "metadata": {},
     "output_type": "execute_result"
    }
   ],
   "source": [
    "#overview of the speed data, F in equation presented in the powerpoint.\n",
    "speed"
   ]
  },
  {
   "cell_type": "code",
   "execution_count": 11,
   "metadata": {},
   "outputs": [
    {
     "data": {
      "text/html": [
       "<div>\n",
       "<style scoped>\n",
       "    .dataframe tbody tr th:only-of-type {\n",
       "        vertical-align: middle;\n",
       "    }\n",
       "\n",
       "    .dataframe tbody tr th {\n",
       "        vertical-align: top;\n",
       "    }\n",
       "\n",
       "    .dataframe thead th {\n",
       "        text-align: right;\n",
       "    }\n",
       "</style>\n",
       "<table border=\"1\" class=\"dataframe\">\n",
       "  <thead>\n",
       "    <tr style=\"text-align: right;\">\n",
       "      <th></th>\n",
       "      <th>X1</th>\n",
       "      <th>X2</th>\n",
       "      <th>X3</th>\n",
       "      <th>X4</th>\n",
       "      <th>Y1</th>\n",
       "      <th>Y2</th>\n",
       "      <th>Y3</th>\n",
       "      <th>Y4</th>\n",
       "    </tr>\n",
       "  </thead>\n",
       "  <tbody>\n",
       "    <tr>\n",
       "      <th>0</th>\n",
       "      <td>13</td>\n",
       "      <td>82</td>\n",
       "      <td>23</td>\n",
       "      <td>55</td>\n",
       "      <td>44</td>\n",
       "      <td>95</td>\n",
       "      <td>1</td>\n",
       "      <td>82</td>\n",
       "    </tr>\n",
       "  </tbody>\n",
       "</table>\n",
       "</div>"
      ],
      "text/plain": [
       "   X1  X2  X3  X4  Y1  Y2  Y3  Y4\n",
       "0  13  82  23  55  44  95   1  82"
      ]
     },
     "execution_count": 11,
     "metadata": {},
     "output_type": "execute_result"
    }
   ],
   "source": [
    "# the following table shows the location of 4 injection wells in the grid. We assume that the production well is located\n",
    "# in the grid 49,49.\n",
    "loc_well = pd.DataFrame(np.array([[13,82,23,55,44,95,1,82]]),\n",
    "                   columns=['X1', 'X2', 'X3','X4','Y1','Y2','Y3','Y4'])\n",
    "loc_well"
   ]
  },
  {
   "cell_type": "code",
   "execution_count": 18,
   "metadata": {},
   "outputs": [
    {
     "data": {
      "text/html": [
       "<div>\n",
       "<style scoped>\n",
       "    .dataframe tbody tr th:only-of-type {\n",
       "        vertical-align: middle;\n",
       "    }\n",
       "\n",
       "    .dataframe tbody tr th {\n",
       "        vertical-align: top;\n",
       "    }\n",
       "\n",
       "    .dataframe thead th {\n",
       "        text-align: right;\n",
       "    }\n",
       "</style>\n",
       "<table border=\"1\" class=\"dataframe\">\n",
       "  <thead>\n",
       "    <tr style=\"text-align: right;\">\n",
       "      <th></th>\n",
       "      <th>ConI1I2</th>\n",
       "      <th>ConI1I3</th>\n",
       "      <th>ConI1I4</th>\n",
       "      <th>ConI2I1</th>\n",
       "      <th>ConI2I3</th>\n",
       "      <th>ConI2I4</th>\n",
       "      <th>ConI3I1</th>\n",
       "      <th>ConI3I2</th>\n",
       "      <th>ConI3I4</th>\n",
       "      <th>ConI4I1</th>\n",
       "      <th>ConI4I2</th>\n",
       "      <th>ConI4I3</th>\n",
       "      <th>ConP1I1</th>\n",
       "      <th>ConP1I2</th>\n",
       "      <th>ConP1I3</th>\n",
       "      <th>ConP1I4</th>\n",
       "      <th>PV_flight</th>\n",
       "    </tr>\n",
       "  </thead>\n",
       "  <tbody>\n",
       "    <tr>\n",
       "      <th>0</th>\n",
       "      <td>1</td>\n",
       "      <td>2</td>\n",
       "      <td>3</td>\n",
       "      <td>4</td>\n",
       "      <td>5</td>\n",
       "      <td>6</td>\n",
       "      <td>7</td>\n",
       "      <td>8</td>\n",
       "      <td>9</td>\n",
       "      <td>10</td>\n",
       "      <td>11</td>\n",
       "      <td>12</td>\n",
       "      <td>13</td>\n",
       "      <td>14</td>\n",
       "      <td>15</td>\n",
       "      <td>16</td>\n",
       "      <td>17</td>\n",
       "    </tr>\n",
       "  </tbody>\n",
       "</table>\n",
       "</div>"
      ],
      "text/plain": [
       "   ConI1I2  ConI1I3  ConI1I4  ConI2I1  ConI2I3  ConI2I4  ConI3I1  ConI3I2  \\\n",
       "0        1        2        3        4        5        6        7        8   \n",
       "\n",
       "   ConI3I4  ConI4I1  ConI4I2  ConI4I3  ConP1I1  ConP1I2  ConP1I3  ConP1I4  \\\n",
       "0        9       10       11       12       13       14       15       16   \n",
       "\n",
       "   PV_flight  \n",
       "0         17  "
      ]
     },
     "execution_count": 18,
     "metadata": {},
     "output_type": "execute_result"
    }
   ],
   "source": [
    "# The input is the matrix to save the results of connectivities between wells.\n",
    "input = pd.DataFrame(np.array([(np.arange(1,18))]),\n",
    "                   columns=['ConI1I2', 'ConI1I3', 'ConI1I4','ConI2I1','ConI2I3','ConI2I4','ConI3I1','ConI3I2','ConI3I4'\n",
    "                            ,'ConI4I1','ConI4I2','ConI4I3','ConP1I1','ConP1I2','ConP1I3','ConP1I4','PV_flight'])\n",
    "input"
   ]
  },
  {
   "cell_type": "code",
   "execution_count": 22,
   "metadata": {},
   "outputs": [],
   "source": [
    "i=1\n",
    "phi=np.ones((100,100))\n",
    "# the \n",
    "phi[loc_well.loc[i-1,'X1']-1,loc_well.loc[i-1,'Y1']-1]=0\n",
    "t_va=skfmm.travel_time(phi,speed,dx=10)\n",
    "TimeFMM_hr=t_va**2/4/3600\n",
    "input.loc[0,'ConI1I2']=TimeFMM_hr[loc_well.loc[i-1,'X2']-1,loc_well.loc[i-1,'Y2']-1]\n",
    "input.loc[0,'ConI1I3']=TimeFMM_hr[loc_well.loc[i-1,'X3']-1,loc_well.loc[i-1,'Y3']-1]\n",
    "input.loc[0,'ConI1I4']=TimeFMM_hr[loc_well.loc[i-1,'X4']-1,loc_well.loc[i-1,'Y4']-1]\n",
    "            \n",
    "            ##########################################################################################\n",
    "            \n",
    "phi=np.ones((100,100))\n",
    "phi[loc_well.loc[i-1,'X2']-1,loc_well.loc[i-1,'Y2']-1]=0\n",
    "t_va=skfmm.travel_time(phi,speed,dx=10)\n",
    "TimeFMM_hr=t_va**2/4/3600\n",
    "input.loc[0,'ConI2I1']=TimeFMM_hr[loc_well.loc[i-1,'X1']-1,loc_well.loc[i-1,'Y1']-1]\n",
    "input.loc[0,'ConI2I3']=TimeFMM_hr[loc_well.loc[i-1,'X3']-1,loc_well.loc[i-1,'Y3']-1]\n",
    "input.loc[0,'ConI2I4']=TimeFMM_hr[loc_well.loc[i-1,'X4']-1,loc_well.loc[i-1,'Y4']-1]\n",
    "            \n",
    "            \n",
    "            #######################################################################################\n",
    "            \n",
    "            \n",
    "phi=np.ones((100,100))\n",
    "phi[loc_well.loc[i-1,'X3']-1,loc_well.loc[i-1,'Y3']-1]=0\n",
    "t_va=skfmm.travel_time(phi,speed,dx=10)\n",
    "TimeFMM_hr=t_va**2/4/3600\n",
    "input.loc[0,'ConI3I1']=TimeFMM_hr[loc_well.loc[i-1,'X1']-1,loc_well.loc[i-1,'Y1']-1]\n",
    "input.loc[0,'ConI3I2']=TimeFMM_hr[loc_well.loc[i-1,'X2']-1,loc_well.loc[i-1,'Y2']-1]\n",
    "input.loc[0,'ConI3I4']=TimeFMM_hr[loc_well.loc[i-1,'X4']-1,loc_well.loc[i-1,'Y4']-1]\n",
    "            \n",
    "            \n",
    "            ########################################################################\n",
    "            \n",
    "phi=np.ones((100,100))\n",
    "phi[loc_well.loc[i-1,'X4']-1,loc_well.loc[i-1,'Y4']-1]=0\n",
    "t_va=skfmm.travel_time(phi,speed,dx=10)\n",
    "TimeFMM_hr=t_va**2/4/3600\n",
    "input.loc[0,'ConI4I1']=TimeFMM_hr[loc_well.loc[i-1,'X1']-1,loc_well.loc[i-1,'Y1']-1]\n",
    "input.loc[0,'ConI4I2']=TimeFMM_hr[loc_well.loc[i-1,'X2']-1,loc_well.loc[i-1,'Y2']-1]\n",
    "input.loc[0,'ConI4I3']=TimeFMM_hr[loc_well.loc[i-1,'X3']-1,loc_well.loc[i-1,'Y3']-1]\n",
    "            \n",
    "            \n",
    "            #######################################################################\n",
    "phi=np.ones((100,100))\n",
    "phi[49, 49]=0\n",
    "t_va=skfmm.travel_time(phi,speed,dx=10)\n",
    "TimeFMM_hr=t_va**2/4/3600\n",
    "input.loc[0,'ConP1I1']=TimeFMM_hr[loc_well.loc[i-1,'X1']-1,loc_well.loc[i-1,'Y1']-1]\n",
    "input.loc[0,'ConP1I2']=TimeFMM_hr[loc_well.loc[i-1,'X2']-1,loc_well.loc[i-1,'Y2']-1]\n",
    "input.loc[0,'ConP1I3']=TimeFMM_hr[loc_well.loc[i-1,'X3']-1,loc_well.loc[i-1,'Y3']-1]\n",
    "input.loc[0,'ConP1I4']=TimeFMM_hr[loc_well.loc[i-1,'X4']-1,loc_well.loc[i-1,'Y4']-1]\n",
    "        \n",
    "            ###############################################################\n",
    "            \n",
    "phi=np.ones((100,100))\n",
    "phi[loc_well.loc[i-1,'X1']-1,loc_well.loc[i-1,'Y1']-1]=0\n",
    "phi[loc_well.loc[i-1,'X2']-1,loc_well.loc[i-1,'Y2']-1]=0\n",
    "phi[loc_well.loc[i-1,'X3']-1,loc_well.loc[i-1,'Y3']-1]=0\n",
    "phi[loc_well.loc[i-1,'X4']-1,loc_well.loc[i-1,'Y4']-1]=0\n",
    "t_va=skfmm.travel_time(phi,speed,dx=10)\n",
    "TimeFMM_hr=t_va**2/4/3600\n",
    "PV=(sum(sum(TimeFMM_hr<TimeFMM_hr[49, 49])))*1000/10000000\n",
    "input.loc[0,'PV_flight']=PV"
   ]
  },
  {
   "cell_type": "code",
   "execution_count": 23,
   "metadata": {},
   "outputs": [
    {
     "data": {
      "text/html": [
       "<div>\n",
       "<style scoped>\n",
       "    .dataframe tbody tr th:only-of-type {\n",
       "        vertical-align: middle;\n",
       "    }\n",
       "\n",
       "    .dataframe tbody tr th {\n",
       "        vertical-align: top;\n",
       "    }\n",
       "\n",
       "    .dataframe thead th {\n",
       "        text-align: right;\n",
       "    }\n",
       "</style>\n",
       "<table border=\"1\" class=\"dataframe\">\n",
       "  <thead>\n",
       "    <tr style=\"text-align: right;\">\n",
       "      <th></th>\n",
       "      <th>ConI1I2</th>\n",
       "      <th>ConI1I3</th>\n",
       "      <th>ConI1I4</th>\n",
       "      <th>ConI2I1</th>\n",
       "      <th>ConI2I3</th>\n",
       "      <th>ConI2I4</th>\n",
       "      <th>ConI3I1</th>\n",
       "      <th>ConI3I2</th>\n",
       "      <th>ConI3I4</th>\n",
       "      <th>ConI4I1</th>\n",
       "      <th>ConI4I2</th>\n",
       "      <th>ConI4I3</th>\n",
       "      <th>ConP1I1</th>\n",
       "      <th>ConP1I2</th>\n",
       "      <th>ConP1I3</th>\n",
       "      <th>ConP1I4</th>\n",
       "      <th>PV_flight</th>\n",
       "    </tr>\n",
       "  </thead>\n",
       "  <tbody>\n",
       "    <tr>\n",
       "      <th>0</th>\n",
       "      <td>9.212674</td>\n",
       "      <td>2.283631</td>\n",
       "      <td>3.998564</td>\n",
       "      <td>9.148397</td>\n",
       "      <td>14.773713</td>\n",
       "      <td>1.114484</td>\n",
       "      <td>2.371677</td>\n",
       "      <td>14.856791</td>\n",
       "      <td>8.887616</td>\n",
       "      <td>3.912227</td>\n",
       "      <td>1.102983</td>\n",
       "      <td>8.911342</td>\n",
       "      <td>1.657922</td>\n",
       "      <td>4.176162</td>\n",
       "      <td>3.186806</td>\n",
       "      <td>1.422893</td>\n",
       "      <td>0.6795</td>\n",
       "    </tr>\n",
       "  </tbody>\n",
       "</table>\n",
       "</div>"
      ],
      "text/plain": [
       "    ConI1I2   ConI1I3   ConI1I4   ConI2I1    ConI2I3   ConI2I4   ConI3I1  \\\n",
       "0  9.212674  2.283631  3.998564  9.148397  14.773713  1.114484  2.371677   \n",
       "\n",
       "     ConI3I2   ConI3I4   ConI4I1   ConI4I2   ConI4I3   ConP1I1   ConP1I2  \\\n",
       "0  14.856791  8.887616  3.912227  1.102983  8.911342  1.657922  4.176162   \n",
       "\n",
       "    ConP1I3   ConP1I4  PV_flight  \n",
       "0  3.186806  1.422893     0.6795  "
      ]
     },
     "execution_count": 23,
     "metadata": {},
     "output_type": "execute_result"
    }
   ],
   "source": [
    "input"
   ]
  }
 ],
 "metadata": {
  "kernelspec": {
   "display_name": "Python 3",
   "language": "python",
   "name": "python3"
  },
  "language_info": {
   "codemirror_mode": {
    "name": "ipython",
    "version": 3
   },
   "file_extension": ".py",
   "mimetype": "text/x-python",
   "name": "python",
   "nbconvert_exporter": "python",
   "pygments_lexer": "ipython3",
   "version": "3.6.5"
  }
 },
 "nbformat": 4,
 "nbformat_minor": 2
}
